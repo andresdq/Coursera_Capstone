{
    "cells": [
        {
            "cell_type": "markdown",
            "metadata": {},
            "source": "# Madrid Pet Bussiness"
        },
        {
            "cell_type": "markdown",
            "metadata": {},
            "source": "Establish a dog kindergarten service in the city of Madrid\n\nIt is planned to examine the city of Madrid, in order to establish a dog kennel; So, you need to see in which parts of the city are places with greater and lesser concentration related to pets, whether they are nurseries, vets, veterinary emergencies, parks.\n\nSo we are going to cluster the places in the city and see where we can be located with the greatest probability of success.\n\nMadrid was chosen for being the city with the most business possibilities, in terms of the size of the market in Spain, as well as being the city of Spain with the most canine pets, compared to other cities, both percentage-wise at the level of the general population. Madrid , as in number of canine pets.\n\n"
        },
        {
            "cell_type": "markdown",
            "metadata": {},
            "source": "## Why is this data useful for my business?"
        },
        {
            "cell_type": "markdown",
            "metadata": {},
            "source": "The general idea is to bring the relevant data to examine on the map of Madrid, which areas have a better environment to care for dogs.\nBasically we will see that areas or neighborhoods of the city have more parks and services for pets.\n\nThe data of the neighborhoods and areas of Madrid were taken from the official data page of the Spanish government: https://datos.gob.es/es/catalogo/a13002908-barrios-del-munbierno-de-madrid\n\nAnd the data of the places analyzed was taken from the foursquare.com API.\n\n"
        },
        {
            "cell_type": "code",
            "execution_count": 1,
            "metadata": {},
            "outputs": [],
            "source": "# import the libraries\n\nimport urllib.request\nimport pandas as pd\nimport numpy as np\nfrom sklearn import preprocessing\nimport random\nimport requests\nfrom pandas.io.json import json_normalize \nimport json"
        },
        {
            "cell_type": "markdown",
            "metadata": {},
            "source": "### Get data about Madrid"
        },
        {
            "cell_type": "code",
            "execution_count": null,
            "metadata": {},
            "outputs": [
                {
                    "name": "stdout",
                    "output_type": "stream",
                    "text": "Solving environment: - "
                }
            ],
            "source": "# Use geopy library to get the latitude and longitude values of Madrid City.\n\n!conda install -c conda-forge geopy --yes \nfrom geopy.geocoders import Nominatim # module to convert an address into latitude and longitude values\n\n# libraries for displaying images\nfrom IPython.display import Image \nfrom IPython.core.display import HTML \n    \n# tranforming json file into a pandas dataframe library\nfrom pandas.io.json import json_normalize\n\n!conda install -c conda-forge folium=0.5.0 --yes\nimport folium # plotting library"
        },
        {
            "cell_type": "code",
            "execution_count": null,
            "metadata": {},
            "outputs": [],
            "source": "address = 'Madrid, ES'\n\ngeolocator = Nominatim(user_agent=\"md_explorer\")\nlocation = geolocator.geocode(address)\nlatitude = location.latitude\nlongitude = location.longitude\nprint('The geograpical coordinate of Madrid are {}, {}.'.format(latitude, longitude))"
        },
        {
            "cell_type": "code",
            "execution_count": null,
            "metadata": {},
            "outputs": [],
            "source": "# create map of Madrid using latitude and longitude values\nmap_madrid = folium.Map(location=[latitude, longitude], zoom_start=10)\n   \nmap_madrid"
        },
        {
            "cell_type": "markdown",
            "metadata": {},
            "source": "### Go to Foursquare to get venues of Madrid "
        },
        {
            "cell_type": "code",
            "execution_count": null,
            "metadata": {},
            "outputs": [],
            "source": "# The code was removed by Watson Studio for sharing."
        },
        {
            "cell_type": "markdown",
            "metadata": {},
            "source": "### Let go to see parks of Madrid"
        },
        {
            "cell_type": "code",
            "execution_count": null,
            "metadata": {},
            "outputs": [],
            "source": "# Define the URL to get parks of Madrid.\n\n# https://api.foursquare.com/v2/venues/search?client_id=CLIENT_ID&client_secret=CLIENT_SECRET&ll=LATITUDE,LONGITUDE&v=VERSION&query=QUERY&radius=RADIUS&limit=LIMIT\n\nsearch_query = 'Parque'\nradius = 10000\nLIMIT = 3000"
        },
        {
            "cell_type": "code",
            "execution_count": null,
            "metadata": {},
            "outputs": [],
            "source": "# The code was removed by Watson Studio for sharing."
        },
        {
            "cell_type": "code",
            "execution_count": null,
            "metadata": {},
            "outputs": [],
            "source": "results = requests.get(url).json()\nresults"
        },
        {
            "cell_type": "code",
            "execution_count": null,
            "metadata": {},
            "outputs": [],
            "source": "parques = results['response']['venues']\n    \nparques = pd.json_normalize(parques) # flatten JSON\n\nparques.head()"
        },
        {
            "cell_type": "markdown",
            "metadata": {},
            "source": "### Now we go to see relational bussiness"
        },
        {
            "cell_type": "code",
            "execution_count": null,
            "metadata": {},
            "outputs": [],
            "source": "# Define the URL to get other insteresting venues of Madrid.\n\n# https://api.foursquare.com/v2/venues/search?client_id=CLIENT_ID&client_secret=CLIENT_SECRET&ll=LATITUDE,LONGITUDE&v=VERSION&query=QUERY&radius=RADIUS&limit=LIMIT\n\nsearch_query = 'mascotas'\nradius = 10000\nLIMIT = 3000"
        },
        {
            "cell_type": "code",
            "execution_count": null,
            "metadata": {},
            "outputs": [],
            "source": "# The code was removed by Watson Studio for sharing."
        },
        {
            "cell_type": "code",
            "execution_count": null,
            "metadata": {},
            "outputs": [],
            "source": "results2 = requests.get(url2).json()\nresults2"
        },
        {
            "cell_type": "code",
            "execution_count": null,
            "metadata": {},
            "outputs": [],
            "source": "mascotas = results2['response']['venues']\n    \nmascotas = pd.json_normalize(mascotas) # flatten JSON\n\nmascotas.head()"
        },
        {
            "cell_type": "markdown",
            "metadata": {},
            "source": "### Maybe it is better if we see them in a Madrid map"
        },
        {
            "cell_type": "code",
            "execution_count": null,
            "metadata": {},
            "outputs": [],
            "source": "lat = parques['location.lat']\nlng = parques['location.lng']\nlat2 = mascotas['location.lat']\nlng2 = mascotas['location.lng']\n\n# create map of Madrid using latitude and longitude values\nmap_madrid = folium.Map(location=[latitude, longitude], zoom_start=10)\n\n# add markers to map\nfor lat, lng, name in zip(parques['location.lat'], parques['location.lng'], parques['name']):\n    label = '{}'.format(name)\n    label = folium.Popup(label, parse_html=True)\n    folium.CircleMarker(\n        [lat, lng],\n        radius=5,\n        popup=label,\n        color='blue',\n        fill=True,\n        fill_color='#3186cc',\n        fill_opacity=0.7,\n        parse_html=False).add_to(map_madrid)  \n    \nfor lat2, lng2, name in zip(mascotas['location.lat'], mascotas['location.lng'], mascotas['name']):\n    label = '{}'.format(name)\n    label = folium.Popup(label, parse_html=True)\n    folium.CircleMarker(\n        [lat2, lng2],\n        radius=5,\n        popup=label,\n        color='red',\n        fill=True,\n        fill_color='#cc313e',\n        fill_opacity=0.7,\n        parse_html=False).add_to(map_madrid)  \n     \nmap_madrid"
        },
        {
            "cell_type": "markdown",
            "metadata": {},
            "source": "### Where are we go to establish our bussiness? "
        },
        {
            "cell_type": "code",
            "execution_count": null,
            "metadata": {},
            "outputs": [],
            "source": "# Just to look it\n\ntotaldf = parques.append(mascotas)\ntotaldf.shape\n"
        },
        {
            "cell_type": "code",
            "execution_count": null,
            "metadata": {},
            "outputs": [],
            "source": "# NaN values?\n\ntotaldf.columns[totaldf.isnull().any()]"
        },
        {
            "cell_type": "code",
            "execution_count": null,
            "metadata": {},
            "outputs": [],
            "source": "# Droping NaN values in my df\n\ntotaldf = totaldf.drop(['location.address', 'location.crossStreet', 'location.postalCode',\n       'location.city', 'location.state', 'location.neighborhood',\n       'venuePage.id'], axis = 1)"
        },
        {
            "cell_type": "code",
            "execution_count": null,
            "metadata": {},
            "outputs": [],
            "source": "# NaN values?\n\ntotaldf.columns[totaldf.isnull().any()]"
        },
        {
            "cell_type": "code",
            "execution_count": null,
            "metadata": {},
            "outputs": [],
            "source": "# let's see the columns of our df\n\ntotaldf.columns"
        },
        {
            "cell_type": "code",
            "execution_count": null,
            "metadata": {},
            "outputs": [],
            "source": "# Establish another df just to clustering\n\ntotaldfclust = totaldf.drop(['id', 'name', 'categories', 'referralId', 'hasPerk', 'location.labeledLatLngs', 'location.distance', 'location.cc', 'location.country', 'location.formattedAddress'], axis = 1)\n\ntotaldfclust.head()"
        },
        {
            "cell_type": "markdown",
            "metadata": {},
            "source": "Clustering"
        },
        {
            "cell_type": "markdown",
            "metadata": {},
            "source": "Kmeans"
        },
        {
            "cell_type": "code",
            "execution_count": null,
            "metadata": {},
            "outputs": [],
            "source": "# Import some necesary libraries\n\nimport matplotlib.pyplot as plt # plotting library\nimport matplotlib.cm as cm\nimport matplotlib.colors as colors\n# backend for rendering plots within the browser\n%matplotlib inline \n\nfrom sklearn.cluster import KMeans \nfrom sklearn.datasets.samples_generator import make_blobs"
        },
        {
            "cell_type": "code",
            "execution_count": null,
            "metadata": {},
            "outputs": [],
            "source": "# set number of clusters\nkclusters = 5\n\n# run k-means clustering\n# kmeans = KMeans(n_clusters=kclusters, random_state=0).fit(totaldfclust)\n\nkmeans = KMeans(init = \"k-means++\", n_clusters = kclusters, n_init = 12)\n\nkmeans.fit(totaldfclust)\n\n# check cluster labels generated for each row in the dataframe\nkmeans.labels_[0:10] "
        },
        {
            "cell_type": "markdown",
            "metadata": {},
            "source": "Let's create a new dataframe that includes the cluster "
        },
        {
            "cell_type": "code",
            "execution_count": null,
            "metadata": {},
            "outputs": [],
            "source": " # add clustering labels\n    \ntotaldfclust.insert(0, 'Km Clusters', kmeans.labels_)\n\ntotaldfclust.head()"
        },
        {
            "cell_type": "markdown",
            "metadata": {},
            "source": "Visualizing Kmeans clusters"
        },
        {
            "cell_type": "code",
            "execution_count": null,
            "metadata": {},
            "outputs": [],
            "source": "# create map\nmap_clusters = folium.Map(location=[latitude, longitude], zoom_start=11)\n\n# set color scheme for the clusters\nx = np.arange(kclusters)\nys = [i + x + (i*x)**2 for i in range(kclusters)]\ncolors_array = cm.rainbow(np.linspace(0, 1, len(ys)))\nrainbow = [colors.rgb2hex(i) for i in colors_array]\n\n# add markers to the map\nmarkers_colors = []\nfor lat, lon, cluster in zip(totaldfclust['location.lat'], totaldfclust['location.lng'], totaldfclust['Km Clusters']):\n    label = folium.Popup(' Cluster ' + str(cluster), parse_html=True)\n    folium.CircleMarker(\n        [lat, lon],\n        radius=5,\n        popup=label,\n        color=rainbow[cluster-1],\n        fill=True,\n        fill_color=rainbow[cluster-1],\n        fill_opacity=0.7).add_to(map_clusters)\n       \nmap_clusters"
        },
        {
            "cell_type": "code",
            "execution_count": null,
            "metadata": {},
            "outputs": [],
            "source": "# Our df 2.0\n\ntotaldfclust['name'] = totaldf['name']\ntotaldfclust.head()"
        },
        {
            "cell_type": "markdown",
            "metadata": {},
            "source": "finally go to see how is the best cluster to establish our bussiness "
        },
        {
            "cell_type": "code",
            "execution_count": null,
            "metadata": {},
            "outputs": [],
            "source": "# Let's to grouping and counting the number of parks and pet's services in Madrid\n\ngroupfinal = totaldfclust.groupby('Km Clusters').count()\ngroupfinal"
        },
        {
            "cell_type": "markdown",
            "metadata": {},
            "source": "As we can see, cluster number 3 is our area of \u200b\u200bthe city of Madrid appropriate to establish our business because it has the largest number of businesses and places related to ours."
        },
        {
            "cell_type": "code",
            "execution_count": null,
            "metadata": {},
            "outputs": [],
            "source": ""
        }
    ],
    "metadata": {
        "kernelspec": {
            "display_name": "Python 3.6",
            "language": "python",
            "name": "python3"
        },
        "language_info": {
            "codemirror_mode": {
                "name": "ipython",
                "version": 3
            },
            "file_extension": ".py",
            "mimetype": "text/x-python",
            "name": "python",
            "nbconvert_exporter": "python",
            "pygments_lexer": "ipython3",
            "version": "3.6.9"
        },
        "toc-showmarkdowntxt": false,
        "toc-showtags": true
    },
    "nbformat": 4,
    "nbformat_minor": 4
}